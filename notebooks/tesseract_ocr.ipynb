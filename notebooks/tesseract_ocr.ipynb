{
 "cells": [
  {
   "cell_type": "markdown",
   "metadata": {},
   "source": [
    "### Tesseract OCR\n",
    "OCR OF DOCUMENTS FROM THE COLLECTION **ANTONIO AZEREDO DA SILVEIRA, MINISTÉRIO DAS RELAÇÕES EXTERIORES (AAS MRE)**.  "
   ]
  },
  {
   "cell_type": "markdown",
   "metadata": {},
   "source": [
    "#### Convert images to tiff\n",
    "This function converts images to tiff by the PIL package from python. It is very limitade yet because it only converts image by image and the final name would also have to be converted one by one."
   ]
  },
  {
   "cell_type": "code",
   "execution_count": null,
   "metadata": {
    "collapsed": true
   },
   "outputs": [],
   "source": [
    "import Image\n",
    "\n",
    "def conversor_tif (filename):\n",
    "    image = Image.open(filename)\n",
    "    image.save('foto.tiff')\n",
    "    \n",
    "conversor_tif('foto.jpg')"
   ]
  },
  {
   "cell_type": "markdown",
   "metadata": {},
   "source": [
    "#### Convert images to tiff (second try)\n",
    "This function converts images to tiff by the terminal. It is more advanced because it already converts images in the endings .jpeg, .png, .pdf e .gif to .tiff however the final name can still be improved. The function depends on the executable beging in the same folder as the images to be converted."
   ]
  },
  {
   "cell_type": "code",
   "execution_count": 3,
   "metadata": {
    "collapsed": true
   },
   "outputs": [],
   "source": [
    "import os\n",
    "\n",
    "def conversor_tif ():\n",
    "    os.system(\"for file in *.JPG; do convert $file -resize 2000 new-$file.tiff; done\")\n",
    "    os.system(\"for file in *.pdf; do convert $file -resize 2000 new-$file.tiff; done\")\n",
    "    os.system(\"for file in *.gif; do convert $file -resize 2000 new-$file.tiff; done\")\n",
    "    os.system(\"for file in *.png; do convert $file -resize 2000 new-$file.tiff; done\")\n",
    "    os.system(\"for file in *.jpeg; do convert $file -resize 2000 new-$file.tiff; done\")\n",
    "    \n",
    "conversor_tif()"
   ]
  },
  {
   "cell_type": "markdown",
   "metadata": {},
   "source": [
    "This function calls Tesseract_ocr from Linux and applies on .tiff files. It still have the condition that the executable is in the same folder as the files.tiff and still have the problem of creating .JPG.tiff.txt files at the end."
   ]
  },
  {
   "cell_type": "code",
   "execution_count": 4,
   "metadata": {
    "collapsed": true
   },
   "outputs": [],
   "source": [
    "def tess():\n",
    "    os.system(\"for file in *.tiff; do tesseract $file ocr-$file; done\")\n",
    "\n",
    "tess()"
   ]
  },
  {
   "cell_type": "markdown",
   "metadata": {},
   "source": [
    "#### Evaluates spelling errors\n",
    "This function takes the file and evaluates the spelling errors (it does not correct errors that generate other known words). It is still in the initial phase. For now it sees one file at a time and it passes error by error so that the user choose what to do."
   ]
  },
  {
   "cell_type": "code",
   "execution_count": null,
   "metadata": {
    "collapsed": true
   },
   "outputs": [],
   "source": [
    "import enchant\n",
    "from enchant.checker import SpellChecker\n",
    "\n",
    "def teste(x):\n",
    "    v = SpellChecker(\"pt_BR\",x)\n",
    "    c = CmdLineChecker()\n",
    "    c.set_checker(v)\n",
    "    c.run()\n",
    "    return v.get_text()"
   ]
  },
  {
   "cell_type": "code",
   "execution_count": null,
   "metadata": {
    "collapsed": true
   },
   "outputs": [],
   "source": [
    "import Image \n",
    "import os\n",
    "\n",
    "def conversor_tif ():\n",
    "    os.system(\"for file in *.JPG; do convert $file -resize 2000 new-$file.tiff; done\")\n",
    "    os.system(\"for file in *.pdf; do convert $file -resize 2000 new-$file.tiff; done\")\n",
    "    os.system(\"for file in *.gif; do convert $file -resize 2000 new-$file.tiff; done\")\n",
    "    os.system(\"for file in *.png; do convert $file -resize 2000 new-$file.tiff; done\")\n",
    "    os.system(\"for file in *.jpeg; do convert $file -resize 2000 new-$file.tiff; done\")\n",
    "def tess ():\n",
    "    os.system(\"for file in *.tiff; do tesseract $file ocr-$file; done \")\n",
    "    "
   ]
  },
  {
   "cell_type": "code",
   "execution_count": null,
   "metadata": {
    "collapsed": true
   },
   "outputs": [],
   "source": [
    "conversor_tif()"
   ]
  },
  {
   "cell_type": "code",
   "execution_count": null,
   "metadata": {
    "collapsed": true
   },
   "outputs": [],
   "source": [
    "tess()"
   ]
  }
 ],
 "metadata": {
  "anaconda-cloud": {},
  "kernelspec": {
   "display_name": "Python 3",
   "language": "python",
   "name": "python3"
  },
  "language_info": {
   "codemirror_mode": {
    "name": "ipython",
    "version": 3
   },
   "file_extension": ".py",
   "mimetype": "text/x-python",
   "name": "python",
   "nbconvert_exporter": "python",
   "pygments_lexer": "ipython3",
   "version": "3.6.3"
  }
 },
 "nbformat": 4,
 "nbformat_minor": 1
}
